{
 "cells": [
  {
   "cell_type": "markdown",
   "metadata": {},
   "source": [
    "# IMPORT"
   ]
  },
  {
   "cell_type": "code",
   "execution_count": 1,
   "metadata": {
    "ExecuteTime": {
     "end_time": "2018-01-11T13:49:09.863117Z",
     "start_time": "2018-01-11T13:49:09.674684Z"
    }
   },
   "outputs": [],
   "source": [
    "%matplotlib inline\n",
    "\n",
    "import matplotlib\n",
    "import numpy as np\n",
    "import matplotlib.pyplot as plt\n",
    "import numpy as np"
   ]
  },
  {
   "cell_type": "markdown",
   "metadata": {},
   "source": [
    "# Algorithm"
   ]
  },
  {
   "cell_type": "markdown",
   "metadata": {},
   "source": [
    "Algorithm crucial for everything in computer science. Improvement due to this even more than tech itself. \n",
    "You can also learn about other topics torugh algorithm quantum mechanics, finance and evolution.\n",
    "\n",
    "\n",
    "\n",
    "They are challenging and fun!\n",
    "\n",
    "It is not only important for an algorithm to be correct, understanding the time it takes is important.\n",
    "\n",
    "- The usual 3th grade algorithm to multiply 2 numbers is an O(n^2) one\n",
    "- Karatsuba multiplication\n",
    "\n",
    "In general recursion is crucial to speed up algorithm!"
   ]
  },
  {
   "cell_type": "markdown",
   "metadata": {},
   "source": [
    "## Simple multiplication"
   ]
  },
  {
   "cell_type": "code",
   "execution_count": 25,
   "metadata": {
    "ExecuteTime": {
     "end_time": "2018-01-05T13:45:28.733151Z",
     "start_time": "2018-01-05T13:45:28.729827Z"
    }
   },
   "outputs": [],
   "source": [
    "def is_power2(num):\n",
    "\n",
    "\t'states if a number is a power of two'\n",
    "\n",
    "\treturn num != 0 and ((num & (num - 1)) == 0)\n"
   ]
  },
  {
   "cell_type": "code",
   "execution_count": 87,
   "metadata": {
    "ExecuteTime": {
     "end_time": "2018-01-05T14:14:47.503038Z",
     "start_time": "2018-01-05T14:14:47.460222Z"
    }
   },
   "outputs": [],
   "source": [
    "def prod_with_mod(a, b):\n",
    "    mod(10, a * b)\n",
    "\n",
    "\n",
    "# def multiply(a,b):\n",
    "#     n = len(str(a))\n",
    "#     m = len(str(b))\n",
    "#     for i in np.arange(0,n)\n",
    "#         remainder = 0\n",
    "#         for i in np.arange(0,n):\n",
    "#             _ = int(str(a)[i])*int(str(b)[j])\n",
    "#             _=_/10\n",
    "\n",
    "# Karatsuba\n",
    "\n",
    "def karat(x,y):\n",
    "    if len(str(x)) == 1 or len(str(y)) == 1:\n",
    "        return x*y\n",
    "    else:\n",
    "        m = max(len(str(x)),len(str(y)))\n",
    "        m2 = m // 2\n",
    "\n",
    "        a = x // 10**(m2)\n",
    "        b = x % 10**(m2)\n",
    "        c = y // 10**(m2)\n",
    "        d = y % 10**(m2)\n",
    "\n",
    "        z0 = karat(b,d)\n",
    "        z1 = karat((a+b),(c+d))\n",
    "        z2 = karat(a,c)\n",
    "\n",
    "        return (z2 * 10**(2*m2)) + ((z1 - z2 - z0) * 10**(m2)) + (z0)"
   ]
  },
  {
   "cell_type": "code",
   "execution_count": 140,
   "metadata": {
    "ExecuteTime": {
     "end_time": "2018-01-05T14:31:40.939616Z",
     "start_time": "2018-01-05T14:31:40.932822Z"
    }
   },
   "outputs": [
    {
     "ename": "OverflowError",
     "evalue": "Python int too large to convert to C long",
     "output_type": "error",
     "traceback": [
      "\u001b[0;31m---------------------------------------------------------------------------\u001b[0m",
      "\u001b[0;31mOverflowError\u001b[0m                             Traceback (most recent call last)",
      "\u001b[0;32m<ipython-input-140-18a68af18c01>\u001b[0m in \u001b[0;36m<module>\u001b[0;34m()\u001b[0m\n\u001b[0;32m----> 1\u001b[0;31m \u001b[0mnp\u001b[0m\u001b[0;34m.\u001b[0m\u001b[0mint64\u001b[0m\u001b[0;34m(\u001b[0m\u001b[0;36m10\u001b[0m\u001b[0;34m**\u001b[0m\u001b[0;36m19\u001b[0m\u001b[0;34m)\u001b[0m\u001b[0;34m\u001b[0m\u001b[0m\n\u001b[0m",
      "\u001b[0;31mOverflowError\u001b[0m: Python int too large to convert to C long"
     ]
    }
   ],
   "source": [
    "np.int64(10**19)"
   ]
  },
  {
   "cell_type": "code",
   "execution_count": 132,
   "metadata": {
    "ExecuteTime": {
     "end_time": "2018-01-05T14:29:44.045643Z",
     "start_time": "2018-01-05T14:29:44.040432Z"
    }
   },
   "outputs": [
    {
     "data": {
      "text/plain": [
       "408"
      ]
     },
     "execution_count": 132,
     "metadata": {},
     "output_type": "execute_result"
    }
   ],
   "source": [
    "karat(12,34)"
   ]
  },
  {
   "cell_type": "code",
   "execution_count": 111,
   "metadata": {
    "ExecuteTime": {
     "end_time": "2018-01-05T14:24:34.341966Z",
     "start_time": "2018-01-05T14:24:34.339693Z"
    }
   },
   "outputs": [],
   "source": [
    "import time"
   ]
  },
  {
   "cell_type": "code",
   "execution_count": 150,
   "metadata": {
    "ExecuteTime": {
     "end_time": "2018-01-05T14:34:38.743141Z",
     "start_time": "2018-01-05T14:34:38.726440Z"
    }
   },
   "outputs": [
    {
     "data": {
      "text/plain": [
       "7"
      ]
     },
     "execution_count": 150,
     "metadata": {},
     "output_type": "execute_result"
    }
   ],
   "source": [
    "np.random.randint(0,9)"
   ]
  },
  {
   "cell_type": "code",
   "execution_count": 182,
   "metadata": {
    "ExecuteTime": {
     "end_time": "2018-01-05T14:41:33.968082Z",
     "start_time": "2018-01-05T14:41:28.872356Z"
    }
   },
   "outputs": [],
   "source": [
    "n=400\n",
    "time_calc = []\n",
    "a=4\n",
    "b=9\n",
    "for n in np.arange(0,n):\n",
    "    tic = time.clock()\n",
    "    a = int(str(a)+str(np.random.randint(0,9)))\n",
    "    b = int(str(b)+str(np.random.randint(0,9)))\n",
    "#     print(a)\n",
    "    karat(a,b)\n",
    "    toc = time.clock()\n",
    "    time_calc.append(toc-tic)\n",
    "    \n"
   ]
  },
  {
   "cell_type": "code",
   "execution_count": 183,
   "metadata": {
    "ExecuteTime": {
     "end_time": "2018-01-05T14:41:34.889193Z",
     "start_time": "2018-01-05T14:41:34.566592Z"
    }
   },
   "outputs": [
    {
     "data": {
      "text/plain": [
       "[<matplotlib.lines.Line2D at 0x7f67fb3b5160>]"
      ]
     },
     "execution_count": 183,
     "metadata": {},
     "output_type": "execute_result"
    },
    {
     "data": {
      "image/png": "[encoded data removed]",
      "text/plain": [
       "<matplotlib.figure.Figure at 0x7f67fb65c780>"
      ]
     },
     "metadata": {},
     "output_type": "display_data"
    }
   ],
   "source": [
    "plt.plot(np.arange(0,n+1),time_calc)\n",
    "plt.plot(np.arange(0,n+1),np.arange(0,n+1)**2*time_calc[0])\n",
    "plt.semilogy(np.arange(0,n+1),np.arange(0,n+1)**1.6*time_calc[0])\n",
    "plt.semilogy(np.arange(0,n+1),np.arange(0,n+1)**1*time_calc[0])"
   ]
  },
  {
   "cell_type": "markdown",
   "metadata": {},
   "source": [
    "TODO implement normal multiplication"
   ]
  },
  {
   "cell_type": "code",
   "execution_count": 186,
   "metadata": {
    "ExecuteTime": {
     "end_time": "2018-01-05T14:42:22.569726Z",
     "start_time": "2018-01-05T14:42:22.560317Z"
    }
   },
   "outputs": [
    {
     "data": {
      "text/plain": [
       "2"
      ]
     },
     "execution_count": 186,
     "metadata": {},
     "output_type": "execute_result"
    }
   ],
   "source": [
    "3*4%10"
   ]
  },
  {
   "cell_type": "markdown",
   "metadata": {},
   "source": [
    "## Merge sort"
   ]
  },
  {
   "cell_type": "code",
   "execution_count": 2,
   "metadata": {
    "ExecuteTime": {
     "end_time": "2018-01-09T16:01:53.094375Z",
     "start_time": "2018-01-09T16:01:53.065744Z"
    }
   },
   "outputs": [],
   "source": [
    "import copy\n",
    "\n",
    "\n",
    "def merge_result(a, b):\n",
    "    sorted_array = list(a) + list(b)\n",
    "    #     print(sorted_array)\n",
    "    #     print('size_a', len(a), 'size_b',len(b),len(sorted_array))\n",
    "    #     print(sorted_array,a,b)\n",
    "    assert (len(sorted_array) == len(a) + len(b))\n",
    "    count_i = 0\n",
    "    count_j = 0\n",
    "    for i in range(0, len(sorted_array)):\n",
    "        #         print(count_i, count_j)\n",
    "        #         print(i)\n",
    "        if a[count_i] <= b[count_j]:\n",
    "            sorted_array[i] = a[count_i]\n",
    "            count_i = count_i + 1\n",
    "        else:\n",
    "            sorted_array[i] = b[count_j]\n",
    "            count_j = count_j + 1\n",
    "\n",
    "        if count_i == len(a):\n",
    "            sorted_array[i + 1:] = b[count_j:]\n",
    "            #             print(i,count_j,sorted_array)\n",
    "\n",
    "            return sorted_array\n",
    "\n",
    "        if count_j == len(b):\n",
    "            sorted_array[i + 1:] = a[count_i:]\n",
    "            #             print(i,count_i,sorted_array)\n",
    "\n",
    "            return sorted_array"
   ]
  },
  {
   "cell_type": "code",
   "execution_count": 3,
   "metadata": {
    "ExecuteTime": {
     "end_time": "2018-01-09T16:01:53.659516Z",
     "start_time": "2018-01-09T16:01:53.613916Z"
    }
   },
   "outputs": [],
   "source": [
    "def mergesort(array):\n",
    "    n = len(array)\n",
    "    #     print(('lenght', n))\n",
    "\n",
    "    if n < 2:\n",
    "        #         print('basic case, return')\n",
    "        return array\n",
    "\n",
    "    sorted_array = copy.deepcopy(array)\n",
    "    #     print(int(n / 2))\n",
    "\n",
    "    a = mergesort(array[:int(n / 2)])\n",
    "\n",
    "    b = mergesort(array[int(n / 2):])\n",
    "\n",
    "    return merge_result(a, b)"
   ]
  },
  {
   "cell_type": "code",
   "execution_count": 105,
   "metadata": {
    "ExecuteTime": {
     "end_time": "2018-01-09T16:35:05.485123Z",
     "start_time": "2018-01-09T16:35:05.449029Z"
    },
    "code_folding": []
   },
   "outputs": [],
   "source": [
    "count_mine = 0\n",
    "\n",
    "def merge_and_count(a, b):\n",
    "    global count_mine\n",
    "\n",
    "    sorted_array = list(a) + list(b)\n",
    "    #     print(sorted_array)\n",
    "    #     print('size_a', len(a), 'size_b',len(b),len(sorted_array))\n",
    "#     print(a,b)\n",
    "    assert (len(sorted_array) == len(a) + len(b))\n",
    "    count_i = 0\n",
    "    count_j = 0\n",
    "    \n",
    "    count = 0\n",
    "    for i in range(0, len(sorted_array)):\n",
    "        #         print(count_i, count_j)\n",
    "        #         print(i)\n",
    "        if a[count_i] <= b[count_j]:\n",
    "            sorted_array[i] = a[count_i]\n",
    "            count_i = count_i + 1\n",
    "\n",
    "        else:\n",
    "            sorted_array[i] = b[count_j]\n",
    "            count_j = count_j + 1\n",
    "            #             this is an inversion\n",
    "            count_mine = count_mine + (len(a)-count_i)\n",
    "\n",
    "        if count_i == len(a):\n",
    "            sorted_array[i + 1:] = b[count_j:]\n",
    "            #             print(i,count_j,sorted_array)\n",
    "\n",
    "            return count, sorted_array\n",
    "\n",
    "        if count_j == len(b):\n",
    "            sorted_array[i + 1:] = a[count_i:]\n",
    "            #             print(i,count_i,sorted_array)\n",
    "\n",
    "            return count_mine, sorted_array"
   ]
  },
  {
   "cell_type": "code",
   "execution_count": 106,
   "metadata": {
    "ExecuteTime": {
     "end_time": "2018-01-09T16:35:06.106003Z",
     "start_time": "2018-01-09T16:35:06.082519Z"
    }
   },
   "outputs": [],
   "source": [
    "def sort_and_count(array):\n",
    "    global count_mine\n",
    "    \n",
    "    n = len(array)\n",
    "    #     print(('lenght', n))\n",
    "\n",
    "    if n < 2:\n",
    "        #         print('basic case, return')\n",
    "        return 0, array\n",
    "\n",
    "    sorted_array = copy.deepcopy(array)\n",
    "    #     print(int(n / 2))\n",
    "\n",
    "    a = sort_and_count(array[:int(n / 2)])[1]\n",
    "\n",
    "    b = sort_and_count(array[int(n / 2):])[1]\n",
    "\n",
    "    count, sort = merge_and_count(a, b)\n",
    "    \n",
    "    return count_mine,sort"
   ]
  },
  {
   "cell_type": "code",
   "execution_count": 107,
   "metadata": {
    "ExecuteTime": {
     "end_time": "2018-01-09T16:35:08.157056Z",
     "start_time": "2018-01-09T16:35:06.992181Z"
    }
   },
   "outputs": [
    {
     "data": {
      "text/plain": [
       "(2407905288,\n",
       " [1.0,\n",
       "  2.0,\n",
       "  3.0,\n",
       "  4.0,\n",
       "  5.0,\n",
       "  6.0,\n",
       "  7.0,\n",
       "  8.0,\n",
       "  9.0,\n",
       "  10.0,\n",
       "  11.0,\n",
       "  12.0,\n",
       "  13.0,\n",
       "  14.0,\n",
       "  15.0,\n",
       "  16.0,\n",
       "  17.0,\n",
       "  18.0,\n",
       "  19.0,\n",
       "  20.0,\n",
       "  21.0,\n",
       "  22.0,\n",
       "  23.0,\n",
       "  24.0,\n",
       "  25.0,\n",
       "  26.0,\n",
       "  27.0,\n",
       "  28.0,\n",
       "  29.0,\n",
       "  30.0,\n",
       "  31.0,\n",
       "  32.0,\n",
       "  33.0,\n",
       "  34.0,\n",
       "  35.0,\n",
       "  36.0,\n",
       "  37.0,\n",
       "  38.0,\n",
       "  39.0,\n",
       "  40.0,\n",
       "  41.0,\n",
       "  42.0,\n",
       "  43.0,\n",
       "  44.0,\n",
       "  45.0,\n",
       "  46.0,\n",
       "  47.0,\n",
       "  48.0,\n",
       "  49.0,\n",
       "  50.0,\n",
       "  51.0,\n",
       "  52.0,\n",
       "  53.0,\n",
       "  54.0,\n",
       "  55.0,\n",
       "  56.0,\n",
       "  57.0,\n",
       "  58.0,\n",
       "  59.0,\n",
       "  60.0,\n",
       "  61.0,\n",
       "  62.0,\n",
       "  63.0,\n",
       "  64.0,\n",
       "  65.0,\n",
       "  66.0,\n",
       "  67.0,\n",
       "  68.0,\n",
       "  69.0,\n",
       "  70.0,\n",
       "  71.0,\n",
       "  72.0,\n",
       "  73.0,\n",
       "  74.0,\n",
       "  75.0,\n",
       "  76.0,\n",
       "  77.0,\n",
       "  78.0,\n",
       "  79.0,\n",
       "  80.0,\n",
       "  81.0,\n",
       "  82.0,\n",
       "  83.0,\n",
       "  84.0,\n",
       "  85.0,\n",
       "  86.0,\n",
       "  87.0,\n",
       "  88.0,\n",
       "  89.0,\n",
       "  90.0,\n",
       "  91.0,\n",
       "  92.0,\n",
       "  93.0,\n",
       "  94.0,\n",
       "  95.0,\n",
       "  96.0,\n",
       "  97.0,\n",
       "  98.0,\n",
       "  99.0,\n",
       "  100.0,\n",
       "  101.0,\n",
       "  102.0,\n",
       "  103.0,\n",
       "  104.0,\n",
       "  105.0,\n",
       "  106.0,\n",
       "  107.0,\n",
       "  108.0,\n",
       "  109.0,\n",
       "  110.0,\n",
       "  111.0,\n",
       "  112.0,\n",
       "  113.0,\n",
       "  114.0,\n",
       "  115.0,\n",
       "  116.0,\n",
       "  117.0,\n",
       "  118.0,\n",
       "  119.0,\n",
       "  120.0,\n",
       "  121.0,\n",
       "  122.0,\n",
       "  123.0,\n",
       "  124.0,\n",
       "  125.0,\n",
       "  126.0,\n",
       "  127.0,\n",
       "  128.0,\n",
       "  129.0,\n",
       "  130.0,\n",
       "  131.0,\n",
       "  132.0,\n",
       "  133.0,\n",
       "  134.0,\n",
       "  135.0,\n",
       "  136.0,\n",
       "  137.0,\n",
       "  138.0,\n",
       "  139.0,\n",
       "  140.0,\n",
       "  141.0,\n",
       "  142.0,\n",
       "  143.0,\n",
       "  144.0,\n",
       "  145.0,\n",
       "  146.0,\n",
       "  147.0,\n",
       "  148.0,\n",
       "  149.0,\n",
       "  150.0,\n",
       "  151.0,\n",
       "  152.0,\n",
       "  153.0,\n",
       "  154.0,\n",
       "  155.0,\n",
       "  156.0,\n",
       "  157.0,\n",
       "  158.0,\n",
       "  159.0,\n",
       "  160.0,\n",
       "  161.0,\n",
       "  162.0,\n",
       "  163.0,\n",
       "  164.0,\n",
       "  165.0,\n",
       "  166.0,\n",
       "  167.0,\n",
       "  168.0,\n",
       "  169.0,\n",
       "  170.0,\n",
       "  171.0,\n",
       "  172.0,\n",
       "  173.0,\n",
       "  174.0,\n",
       "  175.0,\n",
       "  176.0,\n",
       "  177.0,\n",
       "  178.0,\n",
       "  179.0,\n",
       "  180.0,\n",
       "  181.0,\n",
       "  182.0,\n",
       "  183.0,\n",
       "  184.0,\n",
       "  185.0,\n",
       "  186.0,\n",
       "  187.0,\n",
       "  188.0,\n",
       "  189.0,\n",
       "  190.0,\n",
       "  191.0,\n",
       "  192.0,\n",
       "  193.0,\n",
       "  194.0,\n",
       "  195.0,\n",
       "  196.0,\n",
       "  197.0,\n",
       "  198.0,\n",
       "  199.0,\n",
       "  200.0,\n",
       "  201.0,\n",
       "  202.0,\n",
       "  203.0,\n",
       "  204.0,\n",
       "  205.0,\n",
       "  206.0,\n",
       "  207.0,\n",
       "  208.0,\n",
       "  209.0,\n",
       "  210.0,\n",
       "  211.0,\n",
       "  212.0,\n",
       "  213.0,\n",
       "  214.0,\n",
       "  215.0,\n",
       "  216.0,\n",
       "  217.0,\n",
       "  218.0,\n",
       "  219.0,\n",
       "  220.0,\n",
       "  221.0,\n",
       "  222.0,\n",
       "  223.0,\n",
       "  224.0,\n",
       "  225.0,\n",
       "  226.0,\n",
       "  227.0,\n",
       "  228.0,\n",
       "  229.0,\n",
       "  230.0,\n",
       "  231.0,\n",
       "  232.0,\n",
       "  233.0,\n",
       "  234.0,\n",
       "  235.0,\n",
       "  236.0,\n",
       "  237.0,\n",
       "  238.0,\n",
       "  239.0,\n",
       "  240.0,\n",
       "  241.0,\n",
       "  242.0,\n",
       "  243.0,\n",
       "  244.0,\n",
       "  245.0,\n",
       "  246.0,\n",
       "  247.0,\n",
       "  248.0,\n",
       "  249.0,\n",
       "  250.0,\n",
       "  251.0,\n",
       "  252.0,\n",
       "  253.0,\n",
       "  254.0,\n",
       "  255.0,\n",
       "  256.0,\n",
       "  257.0,\n",
       "  258.0,\n",
       "  259.0,\n",
       "  260.0,\n",
       "  261.0,\n",
       "  262.0,\n",
       "  263.0,\n",
       "  264.0,\n",
       "  265.0,\n",
       "  266.0,\n",
       "  267.0,\n",
       "  268.0,\n",
       "  269.0,\n",
       "  270.0,\n",
       "  271.0,\n",
       "  272.0,\n",
       "  273.0,\n",
       "  274.0,\n",
       "  275.0,\n",
       "  276.0,\n",
       "  277.0,\n",
       "  278.0,\n",
       "  279.0,\n",
       "  280.0,\n",
       "  281.0,\n",
       "  282.0,\n",
       "  283.0,\n",
       "  284.0,\n",
       "  285.0,\n",
       "  286.0,\n",
       "  287.0,\n",
       "  288.0,\n",
       "  289.0,\n",
       "  290.0,\n",
       "  291.0,\n",
       "  292.0,\n",
       "  293.0,\n",
       "  294.0,\n",
       "  295.0,\n",
       "  296.0,\n",
       "  297.0,\n",
       "  298.0,\n",
       "  299.0,\n",
       "  300.0,\n",
       "  301.0,\n",
       "  302.0,\n",
       "  303.0,\n",
       "  304.0,\n",
       "  305.0,\n",
       "  306.0,\n",
       "  307.0,\n",
       "  308.0,\n",
       "  309.0,\n",
       "  310.0,\n",
       "  311.0,\n",
       "  312.0,\n",
       "  313.0,\n",
       "  314.0,\n",
       "  315.0,\n",
       "  316.0,\n",
       "  317.0,\n",
       "  318.0,\n",
       "  319.0,\n",
       "  320.0,\n",
       "  321.0,\n",
       "  322.0,\n",
       "  323.0,\n",
       "  324.0,\n",
       "  325.0,\n",
       "  326.0,\n",
       "  327.0,\n",
       "  328.0,\n",
       "  329.0,\n",
       "  330.0,\n",
       "  331.0,\n",
       "  332.0,\n",
       "  333.0,\n",
       "  334.0,\n",
       "  335.0,\n",
       "  336.0,\n",
       "  337.0,\n",
       "  338.0,\n",
       "  339.0,\n",
       "  340.0,\n",
       "  341.0,\n",
       "  342.0,\n",
       "  343.0,\n",
       "  344.0,\n",
       "  345.0,\n",
       "  346.0,\n",
       "  347.0,\n",
       "  348.0,\n",
       "  349.0,\n",
       "  350.0,\n",
       "  351.0,\n",
       "  352.0,\n",
       "  353.0,\n",
       "  354.0,\n",
       "  355.0,\n",
       "  356.0,\n",
       "  357.0,\n",
       "  358.0,\n",
       "  359.0,\n",
       "  360.0,\n",
       "  361.0,\n",
       "  362.0,\n",
       "  363.0,\n",
       "  364.0,\n",
       "  365.0,\n",
       "  366.0,\n",
       "  367.0,\n",
       "  368.0,\n",
       "  369.0,\n",
       "  370.0,\n",
       "  371.0,\n",
       "  372.0,\n",
       "  373.0,\n",
       "  374.0,\n",
       "  375.0,\n",
       "  376.0,\n",
       "  377.0,\n",
       "  378.0,\n",
       "  379.0,\n",
       "  380.0,\n",
       "  381.0,\n",
       "  382.0,\n",
       "  383.0,\n",
       "  384.0,\n",
       "  385.0,\n",
       "  386.0,\n",
       "  387.0,\n",
       "  388.0,\n",
       "  389.0,\n",
       "  390.0,\n",
       "  391.0,\n",
       "  392.0,\n",
       "  393.0,\n",
       "  394.0,\n",
       "  395.0,\n",
       "  396.0,\n",
       "  397.0,\n",
       "  398.0,\n",
       "  399.0,\n",
       "  400.0,\n",
       "  401.0,\n",
       "  402.0,\n",
       "  403.0,\n",
       "  404.0,\n",
       "  405.0,\n",
       "  406.0,\n",
       "  407.0,\n",
       "  408.0,\n",
       "  409.0,\n",
       "  410.0,\n",
       "  411.0,\n",
       "  412.0,\n",
       "  413.0,\n",
       "  414.0,\n",
       "  415.0,\n",
       "  416.0,\n",
       "  417.0,\n",
       "  418.0,\n",
       "  419.0,\n",
       "  420.0,\n",
       "  421.0,\n",
       "  422.0,\n",
       "  423.0,\n",
       "  424.0,\n",
       "  425.0,\n",
       "  426.0,\n",
       "  427.0,\n",
       "  428.0,\n",
       "  429.0,\n",
       "  430.0,\n",
       "  431.0,\n",
       "  432.0,\n",
       "  433.0,\n",
       "  434.0,\n",
       "  435.0,\n",
       "  436.0,\n",
       "  437.0,\n",
       "  438.0,\n",
       "  439.0,\n",
       "  440.0,\n",
       "  441.0,\n",
       "  442.0,\n",
       "  443.0,\n",
       "  444.0,\n",
       "  445.0,\n",
       "  446.0,\n",
       "  447.0,\n",
       "  448.0,\n",
       "  449.0,\n",
       "  450.0,\n",
       "  451.0,\n",
       "  452.0,\n",
       "  453.0,\n",
       "  454.0,\n",
       "  455.0,\n",
       "  456.0,\n",
       "  457.0,\n",
       "  458.0,\n",
       "  459.0,\n",
       "  460.0,\n",
       "  461.0,\n",
       "  462.0,\n",
       "  463.0,\n",
       "  464.0,\n",
       "  465.0,\n",
       "  466.0,\n",
       "  467.0,\n",
       "  468.0,\n",
       "  469.0,\n",
       "  470.0,\n",
       "  471.0,\n",
       "  472.0,\n",
       "  473.0,\n",
       "  474.0,\n",
       "  475.0,\n",
       "  476.0,\n",
       "  477.0,\n",
       "  478.0,\n",
       "  479.0,\n",
       "  480.0,\n",
       "  481.0,\n",
       "  482.0,\n",
       "  483.0,\n",
       "  484.0,\n",
       "  485.0,\n",
       "  486.0,\n",
       "  487.0,\n",
       "  488.0,\n",
       "  489.0,\n",
       "  490.0,\n",
       "  491.0,\n",
       "  492.0,\n",
       "  493.0,\n",
       "  494.0,\n",
       "  495.0,\n",
       "  496.0,\n",
       "  497.0,\n",
       "  498.0,\n",
       "  499.0,\n",
       "  500.0,\n",
       "  501.0,\n",
       "  502.0,\n",
       "  503.0,\n",
       "  504.0,\n",
       "  505.0,\n",
       "  506.0,\n",
       "  507.0,\n",
       "  508.0,\n",
       "  509.0,\n",
       "  510.0,\n",
       "  511.0,\n",
       "  512.0,\n",
       "  513.0,\n",
       "  514.0,\n",
       "  515.0,\n",
       "  516.0,\n",
       "  517.0,\n",
       "  518.0,\n",
       "  519.0,\n",
       "  520.0,\n",
       "  521.0,\n",
       "  522.0,\n",
       "  523.0,\n",
       "  524.0,\n",
       "  525.0,\n",
       "  526.0,\n",
       "  527.0,\n",
       "  528.0,\n",
       "  529.0,\n",
       "  530.0,\n",
       "  531.0,\n",
       "  532.0,\n",
       "  533.0,\n",
       "  534.0,\n",
       "  535.0,\n",
       "  536.0,\n",
       "  537.0,\n",
       "  538.0,\n",
       "  539.0,\n",
       "  540.0,\n",
       "  541.0,\n",
       "  542.0,\n",
       "  543.0,\n",
       "  544.0,\n",
       "  545.0,\n",
       "  546.0,\n",
       "  547.0,\n",
       "  548.0,\n",
       "  549.0,\n",
       "  550.0,\n",
       "  551.0,\n",
       "  552.0,\n",
       "  553.0,\n",
       "  554.0,\n",
       "  555.0,\n",
       "  556.0,\n",
       "  557.0,\n",
       "  558.0,\n",
       "  559.0,\n",
       "  560.0,\n",
       "  561.0,\n",
       "  562.0,\n",
       "  563.0,\n",
       "  564.0,\n",
       "  565.0,\n",
       "  566.0,\n",
       "  567.0,\n",
       "  568.0,\n",
       "  569.0,\n",
       "  570.0,\n",
       "  571.0,\n",
       "  572.0,\n",
       "  573.0,\n",
       "  574.0,\n",
       "  575.0,\n",
       "  576.0,\n",
       "  577.0,\n",
       "  578.0,\n",
       "  579.0,\n",
       "  580.0,\n",
       "  581.0,\n",
       "  582.0,\n",
       "  583.0,\n",
       "  584.0,\n",
       "  585.0,\n",
       "  586.0,\n",
       "  587.0,\n",
       "  588.0,\n",
       "  589.0,\n",
       "  590.0,\n",
       "  591.0,\n",
       "  592.0,\n",
       "  593.0,\n",
       "  594.0,\n",
       "  595.0,\n",
       "  596.0,\n",
       "  597.0,\n",
       "  598.0,\n",
       "  599.0,\n",
       "  600.0,\n",
       "  601.0,\n",
       "  602.0,\n",
       "  603.0,\n",
       "  604.0,\n",
       "  605.0,\n",
       "  606.0,\n",
       "  607.0,\n",
       "  608.0,\n",
       "  609.0,\n",
       "  610.0,\n",
       "  611.0,\n",
       "  612.0,\n",
       "  613.0,\n",
       "  614.0,\n",
       "  615.0,\n",
       "  616.0,\n",
       "  617.0,\n",
       "  618.0,\n",
       "  619.0,\n",
       "  620.0,\n",
       "  621.0,\n",
       "  622.0,\n",
       "  623.0,\n",
       "  624.0,\n",
       "  625.0,\n",
       "  626.0,\n",
       "  627.0,\n",
       "  628.0,\n",
       "  629.0,\n",
       "  630.0,\n",
       "  631.0,\n",
       "  632.0,\n",
       "  633.0,\n",
       "  634.0,\n",
       "  635.0,\n",
       "  636.0,\n",
       "  637.0,\n",
       "  638.0,\n",
       "  639.0,\n",
       "  640.0,\n",
       "  641.0,\n",
       "  642.0,\n",
       "  643.0,\n",
       "  644.0,\n",
       "  645.0,\n",
       "  646.0,\n",
       "  647.0,\n",
       "  648.0,\n",
       "  649.0,\n",
       "  650.0,\n",
       "  651.0,\n",
       "  652.0,\n",
       "  653.0,\n",
       "  654.0,\n",
       "  655.0,\n",
       "  656.0,\n",
       "  657.0,\n",
       "  658.0,\n",
       "  659.0,\n",
       "  660.0,\n",
       "  661.0,\n",
       "  662.0,\n",
       "  663.0,\n",
       "  664.0,\n",
       "  665.0,\n",
       "  666.0,\n",
       "  667.0,\n",
       "  668.0,\n",
       "  669.0,\n",
       "  670.0,\n",
       "  671.0,\n",
       "  672.0,\n",
       "  673.0,\n",
       "  674.0,\n",
       "  675.0,\n",
       "  676.0,\n",
       "  677.0,\n",
       "  678.0,\n",
       "  679.0,\n",
       "  680.0,\n",
       "  681.0,\n",
       "  682.0,\n",
       "  683.0,\n",
       "  684.0,\n",
       "  685.0,\n",
       "  686.0,\n",
       "  687.0,\n",
       "  688.0,\n",
       "  689.0,\n",
       "  690.0,\n",
       "  691.0,\n",
       "  692.0,\n",
       "  693.0,\n",
       "  694.0,\n",
       "  695.0,\n",
       "  696.0,\n",
       "  697.0,\n",
       "  698.0,\n",
       "  699.0,\n",
       "  700.0,\n",
       "  701.0,\n",
       "  702.0,\n",
       "  703.0,\n",
       "  704.0,\n",
       "  705.0,\n",
       "  706.0,\n",
       "  707.0,\n",
       "  708.0,\n",
       "  709.0,\n",
       "  710.0,\n",
       "  711.0,\n",
       "  712.0,\n",
       "  713.0,\n",
       "  714.0,\n",
       "  715.0,\n",
       "  716.0,\n",
       "  717.0,\n",
       "  718.0,\n",
       "  719.0,\n",
       "  720.0,\n",
       "  721.0,\n",
       "  722.0,\n",
       "  723.0,\n",
       "  724.0,\n",
       "  725.0,\n",
       "  726.0,\n",
       "  727.0,\n",
       "  728.0,\n",
       "  729.0,\n",
       "  730.0,\n",
       "  731.0,\n",
       "  732.0,\n",
       "  733.0,\n",
       "  734.0,\n",
       "  735.0,\n",
       "  736.0,\n",
       "  737.0,\n",
       "  738.0,\n",
       "  739.0,\n",
       "  740.0,\n",
       "  741.0,\n",
       "  742.0,\n",
       "  743.0,\n",
       "  744.0,\n",
       "  745.0,\n",
       "  746.0,\n",
       "  747.0,\n",
       "  748.0,\n",
       "  749.0,\n",
       "  750.0,\n",
       "  751.0,\n",
       "  752.0,\n",
       "  753.0,\n",
       "  754.0,\n",
       "  755.0,\n",
       "  756.0,\n",
       "  757.0,\n",
       "  758.0,\n",
       "  759.0,\n",
       "  760.0,\n",
       "  761.0,\n",
       "  762.0,\n",
       "  763.0,\n",
       "  764.0,\n",
       "  765.0,\n",
       "  766.0,\n",
       "  767.0,\n",
       "  768.0,\n",
       "  769.0,\n",
       "  770.0,\n",
       "  771.0,\n",
       "  772.0,\n",
       "  773.0,\n",
       "  774.0,\n",
       "  775.0,\n",
       "  776.0,\n",
       "  777.0,\n",
       "  778.0,\n",
       "  779.0,\n",
       "  780.0,\n",
       "  781.0,\n",
       "  782.0,\n",
       "  783.0,\n",
       "  784.0,\n",
       "  785.0,\n",
       "  786.0,\n",
       "  787.0,\n",
       "  788.0,\n",
       "  789.0,\n",
       "  790.0,\n",
       "  791.0,\n",
       "  792.0,\n",
       "  793.0,\n",
       "  794.0,\n",
       "  795.0,\n",
       "  796.0,\n",
       "  797.0,\n",
       "  798.0,\n",
       "  799.0,\n",
       "  800.0,\n",
       "  801.0,\n",
       "  802.0,\n",
       "  803.0,\n",
       "  804.0,\n",
       "  805.0,\n",
       "  806.0,\n",
       "  807.0,\n",
       "  808.0,\n",
       "  809.0,\n",
       "  810.0,\n",
       "  811.0,\n",
       "  812.0,\n",
       "  813.0,\n",
       "  814.0,\n",
       "  815.0,\n",
       "  816.0,\n",
       "  817.0,\n",
       "  818.0,\n",
       "  819.0,\n",
       "  820.0,\n",
       "  821.0,\n",
       "  822.0,\n",
       "  823.0,\n",
       "  824.0,\n",
       "  825.0,\n",
       "  826.0,\n",
       "  827.0,\n",
       "  828.0,\n",
       "  829.0,\n",
       "  830.0,\n",
       "  831.0,\n",
       "  832.0,\n",
       "  833.0,\n",
       "  834.0,\n",
       "  835.0,\n",
       "  836.0,\n",
       "  837.0,\n",
       "  838.0,\n",
       "  839.0,\n",
       "  840.0,\n",
       "  841.0,\n",
       "  842.0,\n",
       "  843.0,\n",
       "  844.0,\n",
       "  845.0,\n",
       "  846.0,\n",
       "  847.0,\n",
       "  848.0,\n",
       "  849.0,\n",
       "  850.0,\n",
       "  851.0,\n",
       "  852.0,\n",
       "  853.0,\n",
       "  854.0,\n",
       "  855.0,\n",
       "  856.0,\n",
       "  857.0,\n",
       "  858.0,\n",
       "  859.0,\n",
       "  860.0,\n",
       "  861.0,\n",
       "  862.0,\n",
       "  863.0,\n",
       "  864.0,\n",
       "  865.0,\n",
       "  866.0,\n",
       "  867.0,\n",
       "  868.0,\n",
       "  869.0,\n",
       "  870.0,\n",
       "  871.0,\n",
       "  872.0,\n",
       "  873.0,\n",
       "  874.0,\n",
       "  875.0,\n",
       "  876.0,\n",
       "  877.0,\n",
       "  878.0,\n",
       "  879.0,\n",
       "  880.0,\n",
       "  881.0,\n",
       "  882.0,\n",
       "  883.0,\n",
       "  884.0,\n",
       "  885.0,\n",
       "  886.0,\n",
       "  887.0,\n",
       "  888.0,\n",
       "  889.0,\n",
       "  890.0,\n",
       "  891.0,\n",
       "  892.0,\n",
       "  893.0,\n",
       "  894.0,\n",
       "  895.0,\n",
       "  896.0,\n",
       "  897.0,\n",
       "  898.0,\n",
       "  899.0,\n",
       "  900.0,\n",
       "  901.0,\n",
       "  902.0,\n",
       "  903.0,\n",
       "  904.0,\n",
       "  905.0,\n",
       "  906.0,\n",
       "  907.0,\n",
       "  908.0,\n",
       "  909.0,\n",
       "  910.0,\n",
       "  911.0,\n",
       "  912.0,\n",
       "  913.0,\n",
       "  914.0,\n",
       "  915.0,\n",
       "  916.0,\n",
       "  917.0,\n",
       "  918.0,\n",
       "  919.0,\n",
       "  920.0,\n",
       "  921.0,\n",
       "  922.0,\n",
       "  923.0,\n",
       "  924.0,\n",
       "  925.0,\n",
       "  926.0,\n",
       "  927.0,\n",
       "  928.0,\n",
       "  929.0,\n",
       "  930.0,\n",
       "  931.0,\n",
       "  932.0,\n",
       "  933.0,\n",
       "  934.0,\n",
       "  935.0,\n",
       "  936.0,\n",
       "  937.0,\n",
       "  938.0,\n",
       "  939.0,\n",
       "  940.0,\n",
       "  941.0,\n",
       "  942.0,\n",
       "  943.0,\n",
       "  944.0,\n",
       "  945.0,\n",
       "  946.0,\n",
       "  947.0,\n",
       "  948.0,\n",
       "  949.0,\n",
       "  950.0,\n",
       "  951.0,\n",
       "  952.0,\n",
       "  953.0,\n",
       "  954.0,\n",
       "  955.0,\n",
       "  956.0,\n",
       "  957.0,\n",
       "  958.0,\n",
       "  959.0,\n",
       "  960.0,\n",
       "  961.0,\n",
       "  962.0,\n",
       "  963.0,\n",
       "  964.0,\n",
       "  965.0,\n",
       "  966.0,\n",
       "  967.0,\n",
       "  968.0,\n",
       "  969.0,\n",
       "  970.0,\n",
       "  971.0,\n",
       "  972.0,\n",
       "  973.0,\n",
       "  974.0,\n",
       "  975.0,\n",
       "  976.0,\n",
       "  977.0,\n",
       "  978.0,\n",
       "  979.0,\n",
       "  980.0,\n",
       "  981.0,\n",
       "  982.0,\n",
       "  983.0,\n",
       "  984.0,\n",
       "  985.0,\n",
       "  986.0,\n",
       "  987.0,\n",
       "  988.0,\n",
       "  989.0,\n",
       "  990.0,\n",
       "  991.0,\n",
       "  992.0,\n",
       "  993.0,\n",
       "  994.0,\n",
       "  995.0,\n",
       "  996.0,\n",
       "  997.0,\n",
       "  998.0,\n",
       "  999.0,\n",
       "  1000.0,\n",
       "  ...])"
      ]
     },
     "execution_count": 107,
     "metadata": {},
     "output_type": "execute_result"
    }
   ],
   "source": [
    "sort_and_count(array)"
   ]
  },
  {
   "cell_type": "code",
   "execution_count": 102,
   "metadata": {
    "ExecuteTime": {
     "end_time": "2018-01-09T16:34:43.743198Z",
     "start_time": "2018-01-09T16:34:43.734869Z"
    }
   },
   "outputs": [
    {
     "name": "stdout",
     "output_type": "stream",
     "text": [
      "30\n"
     ]
    }
   ],
   "source": [
    "inversionsCount([88, 96, 55, 56,  2, 73, 74, 59, 17, 50])\n",
    "print(count)"
   ]
  },
  {
   "cell_type": "code",
   "execution_count": 97,
   "metadata": {
    "ExecuteTime": {
     "end_time": "2018-01-09T16:34:12.435984Z",
     "start_time": "2018-01-09T16:34:12.432180Z"
    }
   },
   "outputs": [
    {
     "data": {
      "text/plain": [
       "array([88, 96, 55, 56,  2, 73, 74, 59, 17, 50])"
      ]
     },
     "execution_count": 97,
     "metadata": {},
     "output_type": "execute_result"
    }
   ],
   "source": [
    "np.random.randint(0,100,10)"
   ]
  },
  {
   "cell_type": "code",
   "execution_count": 38,
   "metadata": {
    "ExecuteTime": {
     "end_time": "2018-01-09T16:12:29.075470Z",
     "start_time": "2018-01-09T16:12:28.716440Z"
    }
   },
   "outputs": [],
   "source": [
    "array= np.loadtxt(\"/nethome/manzotti/Downloads/IntegerArray.txt\")"
   ]
  },
  {
   "cell_type": "code",
   "execution_count": 40,
   "metadata": {
    "ExecuteTime": {
     "end_time": "2018-01-09T16:13:57.467454Z",
     "start_time": "2018-01-09T16:13:57.453464Z"
    }
   },
   "outputs": [
    {
     "data": {
      "text/plain": [
       "(100000,)"
      ]
     },
     "execution_count": 40,
     "metadata": {},
     "output_type": "execute_result"
    }
   ],
   "source": [
    "array.shape"
   ]
  },
  {
   "cell_type": "code",
   "execution_count": 42,
   "metadata": {
    "ExecuteTime": {
     "end_time": "2018-01-09T16:14:22.930158Z",
     "start_time": "2018-01-09T16:14:21.856972Z"
    }
   },
   "outputs": [],
   "source": [
    "c, array_soty = sort_and_count(array)"
   ]
  },
  {
   "cell_type": "code",
   "execution_count": 44,
   "metadata": {
    "ExecuteTime": {
     "end_time": "2018-01-09T16:14:44.809092Z",
     "start_time": "2018-01-09T16:14:44.791356Z"
    }
   },
   "outputs": [
    {
     "data": {
      "text/plain": [
       "True"
      ]
     },
     "execution_count": 44,
     "metadata": {},
     "output_type": "execute_result"
    }
   ],
   "source": [
    "np.all(np.diff(array_soty)>=0)"
   ]
  },
  {
   "cell_type": "code",
   "execution_count": 101,
   "metadata": {
    "ExecuteTime": {
     "end_time": "2018-01-09T16:34:41.543439Z",
     "start_time": "2018-01-09T16:34:41.473668Z"
    }
   },
   "outputs": [],
   "source": [
    "count = 0\n",
    "\n",
    "def inversionsCount(x):\n",
    "    global count\n",
    "    midsection = int(len(x) / 2)\n",
    "    leftArray = x[:midsection]\n",
    "    rightArray = x[midsection:]\n",
    "    if len(x) > 1:\n",
    "        # Divid and conquer with recursive calls\n",
    "        # to left and right arrays similar to\n",
    "        # merge sort algorithm\n",
    "        inversionsCount(leftArray)\n",
    "        inversionsCount(rightArray)\n",
    "        \n",
    "        # Merge sorted sub-arrays and keep\n",
    "        # count of split inversions\n",
    "        i, j = 0, 0\n",
    "        a = leftArray; b = rightArray\n",
    "        for k in range(len(a) + len(b) + 1):\n",
    "            if a[i] <= b[j]:\n",
    "                x[k] = a[i]\n",
    "                i += 1\n",
    "                if i == len(a) and j != len(b):\n",
    "                    while j != len(b):\n",
    "                        k +=1\n",
    "                        x[k] = b[j]\n",
    "                        j += 1\n",
    "                    break\n",
    "            elif a[i] > b[j]:\n",
    "                x[k] = b[j]\n",
    "                count += (len(a) - i)\n",
    "                j += 1\n",
    "                if j == len(b) and i != len(a):\n",
    "                    while i != len(a):\n",
    "                        k+= 1\n",
    "                        x[k] = a[i]\n",
    "                        i += 1                    \n",
    "                    break   \n",
    "    return x"
   ]
  },
  {
   "cell_type": "markdown",
   "metadata": {
    "ExecuteTime": {
     "end_time": "2018-01-11T13:49:22.862807Z",
     "start_time": "2018-01-11T13:49:22.860942Z"
    }
   },
   "source": [
    "## Quicksort"
   ]
  },
  {
   "cell_type": "code",
   "execution_count": 126,
   "metadata": {
    "ExecuteTime": {
     "end_time": "2018-01-11T14:57:50.856157Z",
     "start_time": "2018-01-11T14:57:50.849646Z"
    }
   },
   "outputs": [],
   "source": [
    "def test(array):\n",
    "    array[-1] =0 \n",
    "    return array\n",
    "    "
   ]
  },
  {
   "cell_type": "code",
   "execution_count": 127,
   "metadata": {
    "ExecuteTime": {
     "end_time": "2018-01-11T14:57:51.402699Z",
     "start_time": "2018-01-11T14:57:51.399290Z"
    }
   },
   "outputs": [],
   "source": [
    "array = [1,45,71,76,82]"
   ]
  },
  {
   "cell_type": "code",
   "execution_count": 128,
   "metadata": {
    "ExecuteTime": {
     "end_time": "2018-01-11T14:57:51.792052Z",
     "start_time": "2018-01-11T14:57:51.786589Z"
    }
   },
   "outputs": [
    {
     "data": {
      "text/plain": [
       "[1, 0]"
      ]
     },
     "execution_count": 128,
     "metadata": {},
     "output_type": "execute_result"
    }
   ],
   "source": [
    "test(array[:2])"
   ]
  },
  {
   "cell_type": "code",
   "execution_count": 129,
   "metadata": {
    "ExecuteTime": {
     "end_time": "2018-01-11T14:57:53.989039Z",
     "start_time": "2018-01-11T14:57:53.983958Z"
    }
   },
   "outputs": [
    {
     "data": {
      "text/plain": [
       "[1, 45, 71, 76, 82]"
      ]
     },
     "execution_count": 129,
     "metadata": {},
     "output_type": "execute_result"
    }
   ],
   "source": [
    "array"
   ]
  },
  {
   "cell_type": "code",
   "execution_count": 346,
   "metadata": {
    "ExecuteTime": {
     "end_time": "2018-01-11T16:34:41.603157Z",
     "start_time": "2018-01-11T16:34:41.588770Z"
    }
   },
   "outputs": [],
   "source": [
    "\n",
    "def partition(array, left, right, pivot_pos):\n",
    "#     pivot_pos = left\n",
    "    assert(left>=0)\n",
    "    assert(right<=len(array))\n",
    "    \n",
    "    #     put pivot in position 0\n",
    "    array[left], array[left + pivot_pos] = array[left + pivot_pos], array[left]\n",
    "    #     where the center of the already partitioned arrayis\n",
    "    i = left + 1\n",
    "    # Convention i point at the first of the bigger than the pivot\n",
    "    for n in range(left + 1, right ):\n",
    "        #         print(array)\n",
    "        if array[n] < array[left]:\n",
    "            array[i], array[n] = array[n], array[i]\n",
    "            i = i + 1\n",
    "        else:\n",
    "            pass\n",
    "\n",
    "    array[left], array[i - 1] = array[i - 1], array[left]\n",
    "\n",
    "    return i-1"
   ]
  },
  {
   "cell_type": "code",
   "execution_count": 350,
   "metadata": {
    "ExecuteTime": {
     "end_time": "2018-01-11T16:42:14.417516Z",
     "start_time": "2018-01-11T16:42:14.406929Z"
    }
   },
   "outputs": [],
   "source": [
    "\n",
    "def quicksort(array, left, right):\n",
    "#     print(\"general array=\",array)\n",
    "    global comparison\n",
    "    \n",
    "    if right-left <= 1:\n",
    "        return array\n",
    "#     print(right-left)\n",
    "#     comparison = comparison + right-left-1\n",
    "#     print('comp',comparison,array[ left:right])\n",
    "    random_pivot = 0 #np.random.randint(0, right-left)\n",
    "#     print(left, right, random_pivot,array[left+random_pivot])\n",
    "    pivot = partition(array,left, right ,random_pivot)\n",
    "\n",
    "#     print(\"looking at=\",array[ left:right])\n",
    "\n",
    "    comparison = comparison + right-left-1\n",
    "    \n",
    "    quicksort(array,left, pivot)\n",
    "\n",
    "    quicksort(array,pivot+1, right)\n",
    "\n",
    "    return array"
   ]
  },
  {
   "cell_type": "code",
   "execution_count": 334,
   "metadata": {
    "ExecuteTime": {
     "end_time": "2018-01-11T16:26:27.181453Z",
     "start_time": "2018-01-11T16:26:27.136411Z"
    }
   },
   "outputs": [],
   "source": [
    "array_sort = np.loadtxt(\"/nethome/manzotti/Downloads/QuickSort.txt\")"
   ]
  },
  {
   "cell_type": "code",
   "execution_count": 351,
   "metadata": {
    "ExecuteTime": {
     "end_time": "2018-01-11T16:42:22.392922Z",
     "start_time": "2018-01-11T16:42:18.332614Z"
    }
   },
   "outputs": [
    {
     "data": {
      "text/plain": [
       "True"
      ]
     },
     "execution_count": 351,
     "metadata": {},
     "output_type": "execute_result"
    }
   ],
   "source": [
    "np.all(np.diff(quicksort(np.random.randint(0,50,50000),0,50000))>=0)"
   ]
  },
  {
   "cell_type": "code",
   "execution_count": 355,
   "metadata": {
    "ExecuteTime": {
     "end_time": "2018-01-11T16:43:29.045907Z",
     "start_time": "2018-01-11T16:43:29.040310Z"
    }
   },
   "outputs": [
    {
     "name": "stdout",
     "output_type": "stream",
     "text": [
      "26\n"
     ]
    }
   ],
   "source": [
    "comparison = 0\n",
    "quicksort([19, 35, 29, 21, 42, 35,  0, 40, 23, 39],0,len([19, 35, 29, 21, 42, 35,  0, 40, 23, 39]))\n",
    "print(comparison)"
   ]
  },
  {
   "cell_type": "code",
   "execution_count": 288,
   "metadata": {
    "ExecuteTime": {
     "end_time": "2018-01-11T15:57:39.526624Z",
     "start_time": "2018-01-11T15:57:39.523831Z"
    }
   },
   "outputs": [],
   "source": [
    "import sys\n",
    "sys.setrecursionlimit(len(array_sort)+500)\n",
    "\n"
   ]
  },
  {
   "cell_type": "code",
   "execution_count": 356,
   "metadata": {
    "ExecuteTime": {
     "end_time": "2018-01-11T16:43:40.539428Z",
     "start_time": "2018-01-11T16:43:32.748196Z"
    }
   },
   "outputs": [
    {
     "name": "stdout",
     "output_type": "stream",
     "text": [
      "True\n",
      "49995000\n"
     ]
    }
   ],
   "source": [
    "comparison = 0\n",
    "print(np.all(np.diff(quicksort(array_sort,0,len(array_sort)))>=0))\n",
    "print(comparison)"
   ]
  },
  {
   "cell_type": "code",
   "execution_count": 298,
   "metadata": {
    "ExecuteTime": {
     "end_time": "2018-01-11T16:01:32.028283Z",
     "start_time": "2018-01-11T16:01:32.024089Z"
    }
   },
   "outputs": [
    {
     "data": {
      "text/plain": [
       "[8, 2, 4, 5, 7, 1]"
      ]
     },
     "execution_count": 298,
     "metadata": {},
     "output_type": "execute_result"
    }
   ],
   "source": [
    "[8 ,2, 4 ,5 ,7, 1]"
   ]
  },
  {
   "cell_type": "code",
   "execution_count": 308,
   "metadata": {
    "ExecuteTime": {
     "end_time": "2018-01-11T16:03:11.425736Z",
     "start_time": "2018-01-11T16:03:11.408848Z"
    }
   },
   "outputs": [
    {
     "data": {
      "text/plain": [
       "1"
      ]
     },
     "execution_count": 308,
     "metadata": {},
     "output_type": "execute_result"
    }
   ],
   "source": [
    "array = [8 ,2, 4 ,5 ,7]\n",
    "len(array)//2-1"
   ]
  },
  {
   "cell_type": "code",
   "execution_count": 307,
   "metadata": {
    "ExecuteTime": {
     "end_time": "2018-01-11T16:03:06.874390Z",
     "start_time": "2018-01-11T16:03:06.865449Z"
    }
   },
   "outputs": [
    {
     "data": {
      "text/plain": [
       "4"
      ]
     },
     "execution_count": 307,
     "metadata": {},
     "output_type": "execute_result"
    }
   ],
   "source": [
    "array[2]"
   ]
  },
  {
   "cell_type": "code",
   "execution_count": 345,
   "metadata": {
    "ExecuteTime": {
     "end_time": "2018-01-11T16:34:15.583784Z",
     "start_time": "2018-01-11T16:34:15.225647Z"
    }
   },
   "outputs": [
    {
     "name": "stdout",
     "output_type": "stream",
     "text": [
      "26\n"
     ]
    }
   ],
   "source": [
    "#! usr/bin/env python\n",
    "\n",
    "firstcomparison = 0\n",
    "lastcomparison = 0\n",
    "mediancomparison = 0\n",
    "\n",
    "# A method for partition around the first element of the array\n",
    "\n",
    "\n",
    "def partition_first(array, leftend, rightend):\n",
    "    pivot = array[leftend]\n",
    "    i = leftend + 1\n",
    "    for j in range(leftend + 1, rightend):\n",
    "        if array[j] < pivot:\n",
    "            temp = array[j]\n",
    "            array[j] = array[i]\n",
    "            array[i] = temp\n",
    "            i += 1\n",
    "\n",
    "    leftendval = array[leftend]\n",
    "    array[leftend] = array[i - 1]\n",
    "    array[i - 1] = leftendval\n",
    "    return i - 1\n",
    "\n",
    "\n",
    "# A method for partitioning around the last element of the array\n",
    "\n",
    "\n",
    "def partition_last(array, leftend, rightend):\n",
    "\n",
    "    pivot = array[rightend - 1]\n",
    "\n",
    "    array[rightend - 1] = array[leftend]\n",
    "    array[leftend] = pivot\n",
    "\n",
    "    i = leftend + 1\n",
    "    for j in range(leftend + 1, rightend):\n",
    "        if array[j] < pivot:\n",
    "            temp = array[j]\n",
    "            array[j] = array[i]\n",
    "            array[i] = temp\n",
    "            i += 1\n",
    "\n",
    "    leftendval = array[leftend]\n",
    "    array[leftend] = array[i - 1]\n",
    "    array[i - 1] = leftendval\n",
    "    return i - 1\n",
    "\n",
    "\n",
    "# A method to calculate the median of three numbers using two comparisons\n",
    "\n",
    "\n",
    "def median(a, b, c):\n",
    "    if (a - b) * (c - a) >= 0:\n",
    "        return a\n",
    "\n",
    "    elif (b - a) * (c - b) >= 0:\n",
    "        return b\n",
    "\n",
    "    else:\n",
    "        return c\n",
    "\n",
    "\n",
    "# A method to partition around the median\n",
    "\n",
    "\n",
    "def partition_median(array, leftend, rightend):\n",
    "    left = array[leftend]\n",
    "    right = array[rightend - 1]\n",
    "    length = rightend - leftend\n",
    "    if length % 2 == 0:\n",
    "        middle = array[int(leftend + length / 2 - 1)]\n",
    "    else:\n",
    "        middle = array[int(leftend + length / 2)]\n",
    "\n",
    "    pivot = median(left, right, middle)\n",
    "\n",
    "    pivotindex = array.index(pivot)  # only works if all values in array unique\n",
    "\n",
    "    array[pivotindex] = array[leftend]\n",
    "    array[leftend] = pivot\n",
    "\n",
    "    i = leftend + 1\n",
    "    for j in range(leftend + 1, rightend):\n",
    "        if array[j] < pivot:\n",
    "            temp = array[j]\n",
    "            array[j] = array[i]\n",
    "            array[i] = temp\n",
    "            i += 1\n",
    "\n",
    "    leftendval = array[leftend]\n",
    "    array[leftend] = array[i - 1]\n",
    "    array[i - 1] = leftendval\n",
    "    return i - 1\n",
    "\n",
    "\n",
    "# Implement quicksort while partitioning around the first index\n",
    "def quick_sort1(array, leftindex, rightindex):\n",
    "    global firstcomparison\n",
    "    if leftindex < rightindex:\n",
    "\n",
    "        newpivotindex = partition_first(array, leftindex, rightindex)\n",
    "\n",
    "        firstcomparison += (rightindex - leftindex - 1)\n",
    "\n",
    "        quick_sort1(array, leftindex, newpivotindex)\n",
    "\n",
    "        quick_sort1(array, newpivotindex + 1, rightindex)\n",
    "\n",
    "\n",
    "def quicksort_last(array, leftindex, rightindex):\n",
    "    global lastcomparison\n",
    "    if leftindex < rightindex:\n",
    "\n",
    "        newpivotindex = partition_last(array, leftindex, rightindex)\n",
    "\n",
    "        lastcomparison += (rightindex - leftindex - 1)\n",
    "\n",
    "        quicksort_last(array, leftindex, newpivotindex)\n",
    "        quicksort_last(array, newpivotindex + 1, rightindex)\n",
    "\n",
    "\n",
    "def quicksort_median(array, leftindex, rightindex):\n",
    "    global mediancomparison\n",
    "    if leftindex < rightindex:\n",
    "\n",
    "        newpivotindex = partition_median(array, leftindex, rightindex)\n",
    "\n",
    "        mediancomparison += (rightindex - leftindex - 1)\n",
    "        quicksort_median(array, leftindex, newpivotindex)\n",
    "\n",
    "        quicksort_median(array, newpivotindex + 1, rightindex)\n",
    "\n",
    "\n",
    "test3 = [1, 11, 5, 15, 2, 12, 9, 99, 77, 0]\n",
    "test4 = []\n",
    "for i in range(1, 101):\n",
    "    test4.append(i)\n",
    "\n",
    "f = open(\"/nethome/manzotti/Downloads/QuickSort.txt\", \"r\")\n",
    "intarray = []\n",
    "for line in f:\n",
    "    intarray.append(int(line))\n",
    "f.close()\n",
    "\n",
    "# test on an array of length 10000\n",
    "firstcomparison = 0\n",
    "quick_sort1([19, 36, 29, 21, 42, 35,  0, 40, 23, 39], 0, len([19, 36, 29, 21, 42, 35,  0, 40, 23, 39]))\n",
    "print(firstcomparison)"
   ]
  },
  {
   "cell_type": "markdown",
   "metadata": {},
   "source": [
    "# Coding Questions"
   ]
  },
  {
   "cell_type": "markdown",
   "metadata": {},
   "source": [
    "## Insertion Pag 115"
   ]
  },
  {
   "cell_type": "code",
   "execution_count": 81,
   "metadata": {
    "ExecuteTime": {
     "end_time": "2018-01-10T15:00:23.544755Z",
     "start_time": "2018-01-10T15:00:23.535975Z"
    }
   },
   "outputs": [],
   "source": [
    "def insertion(N, M, i, j):\n",
    "    if i > j:\n",
    "        temp = j\n",
    "        j = i\n",
    "        i = temp\n",
    "\n",
    "    mask = N & ~(((1 << i) - 1) ^ ((1 << (j + 1)) - 1))       \n",
    "    return (M << i | mask)"
   ]
  },
  {
   "cell_type": "markdown",
   "metadata": {},
   "source": [
    "# ML fundamentals"
   ]
  },
  {
   "cell_type": "markdown",
   "metadata": {},
   "source": [
    "# DS Projects"
   ]
  },
  {
   "cell_type": "code",
   "execution_count": null,
   "metadata": {},
   "outputs": [],
   "source": []
  }
 ],
 "metadata": {
  "kernelspec": {
   "display_name": "Python 3",
   "language": "python",
   "name": "python3"
  },
  "language_info": {
   "codemirror_mode": {
    "name": "ipython",
    "version": 3
   },
   "file_extension": ".py",
   "mimetype": "text/x-python",
   "name": "python",
   "nbconvert_exporter": "python",
   "pygments_lexer": "ipython3",
   "version": "3.6.4"
  },
  "toc": {
   "nav_menu": {},
   "number_sections": true,
   "sideBar": true,
   "skip_h1_title": false,
   "toc_cell": false,
   "toc_position": {},
   "toc_section_display": "block",
   "toc_window_display": true
  },
  "varInspector": {
   "cols": {
    "lenName": 16,
    "lenType": 16,
    "lenVar": 40
   },
   "kernels_config": {
    "python": {
     "delete_cmd_postfix": "",
     "delete_cmd_prefix": "del ",
     "library": "var_list.py",
     "varRefreshCmd": "print(var_dic_list())"
    },
    "r": {
     "delete_cmd_postfix": ") ",
     "delete_cmd_prefix": "rm(",
     "library": "var_list.r",
     "varRefreshCmd": "cat(var_dic_list()) "
    }
   },
   "types_to_exclude": [
    "module",
    "function",
    "builtin_function_or_method",
    "instance",
    "_Feature"
   ],
   "window_display": false
  }
 },
 "nbformat": 4,
 "nbformat_minor": 2
}
